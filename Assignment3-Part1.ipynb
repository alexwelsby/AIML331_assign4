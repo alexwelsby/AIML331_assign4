{
 "cells": [
  {
   "cell_type": "code",
   "execution_count": 5,
   "id": "6190b34c-7a6c-4a73-b021-864440820a8d",
   "metadata": {},
   "outputs": [],
   "source": [
    "from dataset_wrapper import get_pet_datasets"
   ]
  },
  {
   "cell_type": "code",
   "execution_count": null,
   "id": "e9efa995-ffd4-4467-a723-73b07dcf2612",
   "metadata": {},
   "outputs": [
    {
     "name": "stdout",
     "output_type": "stream",
     "text": [
      "Downloading https://thor.robots.ox.ac.uk/pets/images.tar.gz to data\\oxford-iiit-pet\\images.tar.gz\n"
     ]
    },
    {
     "name": "stderr",
     "output_type": "stream",
     "text": [
      " 68%|███████████████████████████████████████████▎                    | 536608768/791918971 [27:39<28:00, 151953.12it/s]"
     ]
    }
   ],
   "source": [
    "def test():\n",
    "    train_dataset, val_dataset, test_dataset = get_pet_datasets(img_width=224, img_height=224,root_path='./data' )\n",
    "    print(train_dataset)\n",
    "    print(\"CAN ANYONE HEAR ME\")\n",
    "\n",
    "test()"
   ]
  },
  {
   "cell_type": "code",
   "execution_count": null,
   "id": "f1840560-caff-4a34-adae-56effabef6c7",
   "metadata": {},
   "outputs": [],
   "source": []
  }
 ],
 "metadata": {
  "kernelspec": {
   "display_name": "Python 3 (ipykernel)",
   "language": "python",
   "name": "python3"
  },
  "language_info": {
   "codemirror_mode": {
    "name": "ipython",
    "version": 3
   },
   "file_extension": ".py",
   "mimetype": "text/x-python",
   "name": "python",
   "nbconvert_exporter": "python",
   "pygments_lexer": "ipython3",
   "version": "3.11.7"
  }
 },
 "nbformat": 4,
 "nbformat_minor": 5
}
