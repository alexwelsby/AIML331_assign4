{
 "cells": [
  {
   "cell_type": "code",
   "execution_count": 1,
   "id": "47d883da-06df-4211-99c7-3d9031251666",
   "metadata": {},
   "outputs": [
    {
     "name": "stdout",
     "output_type": "stream",
     "text": [
      "   pos_embedding num_heads  num_layers patch_size   accuracy\n",
      "0          Fixed         4           3          4  50.000000\n",
      "1          Fixed         4           3          8  44.692737\n",
      "2          Fixed         4           3         16  43.016760\n",
      "3          Fixed         4           4          4  47.346369\n",
      "4          Fixed         4           4          8  43.296089\n",
      "5          Fixed         4           4         16  44.692737\n",
      "6          Fixed         4           5          4  47.206704\n",
      "7          Fixed         4           5          8  47.486034\n",
      "8          Fixed         4           5         16  42.597765\n",
      "9          Fixed         4           6          4  45.530726\n",
      "10         Fixed         4           6          8  45.810056\n",
      "11         Fixed         4           6         16  43.715084\n",
      "12     Learnable         4           3          4  38.826816\n",
      "13     Learnable         4           3          8  44.413408\n",
      "14     Learnable         4           3         16  41.899441\n",
      "15     Learnable         4           4          4  33.798883\n",
      "16     Learnable         4           4          8  41.201117\n",
      "17     Learnable         4           4         16  37.709497\n",
      "18     Learnable         4           5          4  38.268156\n",
      "19     Learnable         4           5          8  40.363128\n",
      "20     Learnable         4           5         16  42.318436\n",
      "21     Learnable         4           6          4  38.687151\n",
      "22     Learnable         4           6          8  41.201117\n",
      "23     Learnable         4           6         16  45.949721\n",
      "24          None         4           3          4  48.743017\n",
      "25          None         4           3          8  40.363128\n",
      "26          None         4           3         16  40.502793\n",
      "27          None         4           4          4  45.949721\n",
      "28          None         4           4          8  47.625698\n",
      "29          None         4           4         16  41.480447\n",
      "30          None         4           5          4  45.810056\n",
      "31          None         4           5          8  44.832402\n",
      "32          None         4           5         16  41.480447\n",
      "33          None         4           6          4  45.949721\n",
      "34          None         4           6          8  42.597765\n",
      "35          None         4           6         16  41.480447\n"
     ]
    }
   ],
   "source": [
    "import re\n",
    "import pandas as pd\n",
    "\n",
    "# Raw multiline string\n",
    "with open(\"Part2AllAccuracies.txt\", \"r\") as file:\n",
    "    text = file.read()\n",
    "\n",
    "# Regex pattern to extract information\n",
    "pattern = re.compile(\n",
    "    r\"pos_embedding: (\\w+|None); num_heads: (\\d+); num_layers:(\\d+); patch_size: (\\d+)\\s+\"\n",
    "    r\"Test Accuracy of the model on the \\d+ test images: ([\\d.]+)\"\n",
    ")\n",
    "\n",
    "# Extract data\n",
    "data = pattern.findall(text)\n",
    "\n",
    "# Convert to DataFrame\n",
    "df = pd.DataFrame(data, columns=[\"pos_embedding\", \"num_heads\", \"num_layers\", \"patch_size\", \"accuracy\"])\n",
    "\n",
    "# Convert data types\n",
    "df[\"num_layers\"] = df[\"num_layers\"].astype(int)\n",
    "df[\"accuracy\"] = df[\"accuracy\"].astype(float)\n",
    "\n",
    "# Save to CSV\n",
    "df.to_csv(\"part2_model_results.csv\", index=False)\n",
    "\n",
    "print(df)"
   ]
  },
  {
   "cell_type": "code",
   "execution_count": null,
   "id": "7817606c-6080-48d8-9d55-f5b7e7a8ed53",
   "metadata": {},
   "outputs": [],
   "source": []
  }
 ],
 "metadata": {
  "kernelspec": {
   "display_name": "Python 3 (ipykernel)",
   "language": "python",
   "name": "python3"
  },
  "language_info": {
   "codemirror_mode": {
    "name": "ipython",
    "version": 3
   },
   "file_extension": ".py",
   "mimetype": "text/x-python",
   "name": "python",
   "nbconvert_exporter": "python",
   "pygments_lexer": "ipython3",
   "version": "3.11.7"
  }
 },
 "nbformat": 4,
 "nbformat_minor": 5
}
